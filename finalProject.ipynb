{
  "nbformat": 4,
  "nbformat_minor": 0,
  "metadata": {
    "colab": {
      "name": "finalProject.ipynb",
      "provenance": [],
      "collapsed_sections": []
    },
    "kernelspec": {
      "name": "python3",
      "display_name": "Python 3"
    }
  },
  "cells": [
    {
      "cell_type": "markdown",
      "metadata": {
        "id": "QeWCFRrh5tIH"
      },
      "source": [
        "##Uploading the data\n",
        "\n",
        "NOTE: this was code was taken from the Linear Regression homework/lecture."
      ]
    },
    {
      "cell_type": "code",
      "metadata": {
        "id": "lqZOfHR45pmc"
      },
      "source": [
        "!pip install -U -q PyDrive ## you will have install for every colab session\n",
        "\n",
        "from pydrive.auth import GoogleAuth\n",
        "from pydrive.drive import GoogleDrive\n",
        "from google.colab import auth\n",
        "from oauth2client.client import GoogleCredentials\n",
        "\n",
        "# 1. Authenticate and create the PyDrive client.\n",
        "auth.authenticate_user()\n",
        "gauth = GoogleAuth()\n",
        "gauth.credentials = GoogleCredentials.get_application_default()\n",
        "drive = GoogleDrive(gauth)\n",
        "\n",
        "# link: https://drive.google.com/file/d/183EV-cLxBCacF6MRVrw9i5DBcj9JGWz0/view?usp=sharing\n",
        "# fileid: 183EV-cLxBCacF6MRVrw9i5DBcj9JGWz0\n",
        "\n",
        "# 2. Now proxy the Google Drive file to a local file\n",
        "data_import = drive.CreateFile({'id':'183EV-cLxBCacF6MRVrw9i5DBcj9JGWz0'})\n",
        "data_import.GetContentFile('combined.csv') # 'cancer_data.csv' is the file name that will be accessible in the notebook.\n"
      ],
      "execution_count": null,
      "outputs": []
    },
    {
      "cell_type": "code",
      "metadata": {
        "colab": {
          "base_uri": "https://localhost:8080/"
        },
        "id": "lgAulCGy9HG1",
        "outputId": "de325a47-48dc-47a1-8e74-1ed105d0e94e"
      },
      "source": [
        "# Load the data into a Pandas data frame\n",
        "\n",
        "import pandas as pd\n",
        "from sklearn import preprocessing\n",
        "\n",
        "# Read input\n",
        "df = pd.read_csv(\"combined.csv\") \n",
        "\n",
        "del df['Unnamed: 0']\n",
        "print(df.head(5))\n"
      ],
      "execution_count": null,
      "outputs": [
        {
          "output_type": "stream",
          "text": [
            "      Unnamed: 0.1  A1CF  A2M  A2ML1  ...  ZSCAN4.n  ZSWIM7.p  ZSWIM7.n  classLabels\n",
            "0  TCGA.BL.A0C8.01     0    0      0  ...         1         0         1            1\n",
            "1  TCGA.BL.A13I.01     0    0      0  ...         0         0         0            1\n",
            "2  TCGA.BL.A13J.01     0    0      0  ...         0         0         1            1\n",
            "3  TCGA.BL.A3JM.01     0    1      0  ...         0         1         0            1\n",
            "4  TCGA.BT.A0S7.01     0    0      0  ...         0         1         0            1\n",
            "\n",
            "[5 rows x 13152 columns]\n"
          ],
          "name": "stdout"
        }
      ]
    },
    {
      "cell_type": "code",
      "metadata": {
        "id": "Xp2AAVhQ9xch"
      },
      "source": [
        "# Preprocessing\n",
        "# This was also taken from the lecture, but don't think there needs to be any\n",
        "# preprocessing such that the series is zero based - it only contains 1s and 0s.\n",
        "encoder = preprocessing.LabelEncoder()\n",
        "\n",
        "for col in df.columns: # For each column in the data frame\n",
        "    df[col] = encoder.fit_transform(df[col]) # Transform the series so is zero based\n",
        "\n",
        "    \n"
      ],
      "execution_count": null,
      "outputs": []
    },
    {
      "cell_type": "markdown",
      "metadata": {
        "id": "fFb_hQeyALZ5"
      },
      "source": [
        "## Import statements for models"
      ]
    },
    {
      "cell_type": "code",
      "metadata": {
        "id": "_82aREWz_6u5"
      },
      "source": [
        "from sklearn.metrics import confusion_matrix, f1_score, auc\n",
        "from sklearn.model_selection import train_test_split\n",
        "from sklearn.feature_selection import RFE, RFECV, SelectKBest, chi2\n",
        "from sklearn.naive_bayes import MultinomialNB, BernoulliNB\n",
        "from sklearn.metrics import precision_recall_curve, precision_score, recall_score, roc_curve\n",
        "from sklearn import svm, metrics\n",
        "import matplotlib.pyplot as plt\n",
        "import numpy as np\n",
        "import time\n"
      ],
      "execution_count": null,
      "outputs": []
    },
    {
      "cell_type": "code",
      "metadata": {
        "id": "-RTZDjUD_e9D"
      },
      "source": [
        "# Separating the features, discard the sample IDs, separate class labels\n",
        "features = df.columns[1:-1]\n",
        "X = df[features]\n",
        "y = df['classLabels']\n",
        "\n",
        "featureIndex = dict()\n",
        "geneKeys = dict() # used to store the mutation types for all genes in the study\n",
        "\n",
        "for i in range(len(features)):\n",
        "    featureIndex[i] = features[i]\n",
        "\n",
        "    if '.n' not in features[i] and '.p' not in features[i]:  # somatic genes\n",
        "        gene = features[i]\n",
        "        if gene not in geneKeys.keys():\n",
        "            geneKeys[gene] = [features[i]]\n",
        "    \n",
        "    else:\n",
        "        if '.n' in features[i]:\n",
        "            gene = features[i].replace('.n', '')\n",
        "            if gene not in geneKeys.keys():\n",
        "                geneKeys[gene] = [features[i]]\n",
        "            else:\n",
        "                geneKeys[gene].append(features[i])\n",
        "\n",
        "        elif '.p' in features[i]:\n",
        "            gene = features[i].replace('.p', '')\n",
        "            if gene not in geneKeys.keys():\n",
        "                geneKeys[gene] = [features[i]]\n",
        "            else:\n",
        "                geneKeys[gene].append(features[i])\n",
        "\n",
        "# Make validation set\n",
        "# Split the total dataset into validation and training/testing. \n",
        "X_train, X_val, y_train, y_val = train_test_split(X, y, test_size=1661, \n",
        "                                                  stratify = y)\n"
      ],
      "execution_count": null,
      "outputs": []
    },
    {
      "cell_type": "code",
      "metadata": {
        "id": "0hrzsR0Pxn8Z"
      },
      "source": [
        "def gatherTopGenes(X, y, labels, selectionFn):\n",
        "    \"\"\"\n",
        "    Gets the top most predictive genes by implement SelectKBest and chi2 selection\n",
        "    function.\n",
        "    \"\"\"\n",
        "    topGenesDict = dict()  # keeps track of the placement of the gen\n",
        "\n",
        "    # 1. Get the top predictors\n",
        "    # This is classifying performance as a function of # selected predictors\n",
        "    # Rank genes in terms of\n",
        "    print(\"Gathering top ranked genes\") \n",
        "    for i in range(50):  # repeat 50 times\n",
        "        \n",
        "        start = time.time()\n",
        "        X_train, X_test, y_train, y_test = train_test_split(X, y, train_size=0.8, \n",
        "                                                            stratify=y)\n",
        "\n",
        "        bestfeatures = SelectKBest(score_func=selectionFn, k=4500)\n",
        "        bestfeatures.fit(X_train, y_train)\n",
        "\n",
        "        bestfeatures_df = pd.DataFrame({'Feature':list(X_train.columns),\n",
        "                                        'Scores': bestfeatures.scores_})\n",
        "    \n",
        "\n",
        "        # Store the features in ranked order\n",
        "        newdf = bestfeatures_df.sort_values(by='Scores', ascending=False)        \n",
        "\n",
        "        # We want to keep track of which genes have been encountered in this \n",
        "        # iteration so as to not overcount multiple features of a gene\n",
        "        genesEncountered = set()\n",
        "\n",
        "        # Store the genes in ranked order\n",
        "        features = list(newdf['Feature'])\n",
        "\n",
        "        for j in range(len(features)):\n",
        "            \n",
        "            feature = features[j]\n",
        "            # Get gene name\n",
        "            gene = feature\n",
        "            if '.n' in feature:\n",
        "                gene = gene.replace('.n','')\n",
        "            elif '.p' in feature:\n",
        "                gene = gene.replace('.p','')\n",
        "            \n",
        "            # First time seeing this gene\n",
        "            # Add the placement to the genes\n",
        "            if gene not in genesEncountered:\n",
        "                if gene not in topGenesDict.keys():\n",
        "                    topGenesDict[gene] = [j]\n",
        "                else:\n",
        "                    topGenesDict[gene].append(j)\n",
        "                genesEncountered.add(gene)\n",
        "            \n",
        "\n",
        "    for gene in topGenesDict.keys():\n",
        "        topGenesDict[gene] = sum(topGenesDict[gene])\n",
        "    \n",
        "    sortedGenes = sorted(topGenesDict.items(), key=lambda item: item[1])\n",
        "    sortedGenes = {k: v for k, v in sortedGenes}\n",
        "\n",
        "    return sortedGenes"
      ],
      "execution_count": null,
      "outputs": []
    },
    {
      "cell_type": "code",
      "metadata": {
        "id": "sp_jq38HTi9Z",
        "colab": {
          "base_uri": "https://localhost:8080/",
          "height": 128
        },
        "outputId": "a2047a54-b3fa-46fe-f211-8fb277883804"
      },
      "source": [
        "def multiNBTop(X, y, labels, selectionFn, topGenesDict):\n",
        "    \"\"\"\n",
        "    MNB function that calculates accuracies across gene sets of increasing size.\n",
        "    \"\"\"\n",
        "    # Save genes that make top 50 each time\n",
        "    print(\"Genes gathered.\")\n",
        "    # Get the top 50 and 900 genes\n",
        "    top50 = list(topGenesDict)[:50]\n",
        "    top900 = list(topGenesDict)[:900]\n",
        "    \n",
        "    # 2. Calculate overall accuracy as fcn of # selected predictors, increasing\n",
        "    # number of predictors\n",
        "    \n",
        "    accuracyDict = dict()  # store the list of accuracies per genes considered\n",
        "    # keys include the number of genes we're looking at, value is their overall accuracy\n",
        "    print(\"Moving onto gathering accuracies...\")\n",
        "    \n",
        "    for i in range(1): \n",
        "        \n",
        "        # Split data\n",
        "        X_train, X_test, y_train, y_test = train_test_split(X, y, train_size=0.8, \n",
        "                                                            stratify=y)\n",
        "        rankedFeatures = []  # stores the features that we're considering in order\n",
        "        numGenes = 0\n",
        "\n",
        "        for gene in topGenesDict.keys():  # go through each gene\n",
        "            numGenes += 1\n",
        "            if numGenes > 4500:\n",
        "                break\n",
        "            else:\n",
        "                start = time.time()\n",
        "                if len(rankedFeatures) == 0:  # this is the first iteration \n",
        "                    geneFeatures = geneKeys[gene]  # grab the features for this gene\n",
        "                    rankedFeatures += geneFeatures\n",
        "                else:  # add onto the features\n",
        "                    geneFeatures = geneKeys[gene]\n",
        "                    rankedFeatures += geneFeatures\n",
        "                # 2a. Train according to the features gathered so far\n",
        "                #X_train, X_test, y_train, y_test = train_test_split(X, y, train_size=0.8, \n",
        "                #                                                stratify=y)\n",
        "                \n",
        "                print(\"{} genes, {} features\".format(numGenes, len(rankedFeatures)))\n",
        "                clf = MultinomialNB()\n",
        "\n",
        "                clf.fit(X_train[rankedFeatures], y_train)\n",
        "\n",
        "                y_pred = clf.predict(X_test[rankedFeatures])\n",
        "                score = metrics.accuracy_score(y_test, y_pred)\n",
        "                accuracyDict[numGenes] = score\n",
        "                #print(numGenes, score)\n",
        "                print(\"Time elapsed: {} seconds\".format(time.time() - start))\n",
        "                print(\"---\")\n",
        "\n",
        "    sortedAccuracyDict = sorted(accuracyDict.items(), key=lambda item: item[1],\n",
        "                                reverse=True)\n",
        "    \n",
        "    sortedAccuracyDict = dict(sortedAccuracyDict)\n",
        "\n",
        "    # Plotting the # of genes vs accuracies\n",
        "    x_axis = sorted(sortedAccuracyDict.keys())\n",
        "    y_axis = []\n",
        "    for x in x_axis:\n",
        "        y_axis.append(sortedAccuracyDict[x]*100)\n",
        "\n",
        "    fig, ax = plt.subplots()\n",
        "    ax.plot(x_axis, y_axis)\n",
        "    ax.set(xlabel='Number of genes Used', ylabel='Overall Accuracy (%)',\n",
        "           title = 'Percent Accuracy According to Number of Genes Used') \n",
        "    \n",
        "    fig.savefig(\"plottedAccuracies.png\")\n",
        "    plt.show()   \n",
        "    return sortedAccuracyDict, top50, top900\n",
        "    \n"
      ],
      "execution_count": null,
      "outputs": [
        {
          "output_type": "error",
          "ename": "SyntaxError",
          "evalue": "ignored",
          "traceback": [
            "\u001b[0;36m  File \u001b[0;32m\"<ipython-input-217-c5d659ca7772>\"\u001b[0;36m, line \u001b[0;32m71\u001b[0m\n\u001b[0;31m    \u001b[0m\n\u001b[0m    ^\u001b[0m\n\u001b[0;31mSyntaxError\u001b[0m\u001b[0;31m:\u001b[0m EOF while scanning triple-quoted string literal\n"
          ]
        }
      ]
    },
    {
      "cell_type": "code",
      "metadata": {
        "colab": {
          "base_uri": "https://localhost:8080/"
        },
        "id": "xTD3ZWi3B-qL",
        "outputId": "5feecc82-c6f2-4ba8-c657-d01bfcf7eed2"
      },
      "source": [
        "# Gather the top genes\n",
        "\n",
        "# Dictionary for translating class label numeric values to respective cancer names\n",
        "classLabels = {1: 'Bladder urothelial carcinoma', 2: 'Breast invasive carcinoma', \n",
        "         3: 'Colorectal adenocarcinoma', 4: 'Glioblastoma', \n",
        "         5: 'Head and neck squamous cell carcinoma', \n",
        "         6: 'Kidney renal clear cell carcinoma', \n",
        "         7: 'Acute myeloid leukaemia', 8: 'Lung adenocarcinoma', \n",
        "         9: 'Lung squamous cell carcinoma', 10: 'Ovarian serous cystadenocarcinoma', \n",
        "         11: 'Uterine corpus endometrial carcinoma', 12: 'Adenoid cystic carcinoma', \n",
        "         13: 'Brain lower grade glioma', \n",
        "         14: 'Cervical squamous cell carcinoma and endocervical adenocarcinoma', \n",
        "         15: 'Kidney renal papillary cell carcinoma', 16: 'Liver hepatocellular carcinoma', \n",
        "         17: 'Pancreatic adenocarcinoma', 18: 'Prostate adenocarcinoma', \n",
        "         19: 'Skin cutaneous melanoma', 20: 'Stomach adenocarcinoma', \n",
        "         21: 'Papillary thyroid carcinoma', 22: 'Adrenocortical carcinoma', \n",
        "         23: 'Kidney chromophobe', 24: 'Pheochromocytoma and paraganglioma', \n",
        "         25: 'Sarcoma', 26: 'Testicular germ cell cancer', \n",
        "         27: 'Uterine carcinosarcoma', 28: 'Uveal melanoma'\n",
        "         }\n",
        "topGenesDict = gatherTopGenes(X_train, y_train, classLabels.values(), chi2)\n",
        "\n"
      ],
      "execution_count": null,
      "outputs": [
        {
          "output_type": "stream",
          "text": [
            "Gathering top ranked genes\n"
          ],
          "name": "stdout"
        }
      ]
    },
    {
      "cell_type": "code",
      "metadata": {
        "id": "kAgEVt-RAOae"
      },
      "source": [
        "def plotConfusionMatrix(y_true, y_pred):\n",
        "    # Create a confusion matrix\n",
        "    cm = confusion_matrix(y_true, y_predict, normalize='all')\n",
        "\n",
        "    # Make the figure\n",
        "    fig = plt.figure(figsize=(6, 6))\n",
        "    plt.title(\"Heatmap from Confusion Matrix\")\n",
        "    #ax = fig.add_axes([0.1, 0.1, 0.8, 0.8]) # main axes\n",
        "    labels = list(y_index_key.keys())\n",
        "\n",
        "    plt.ylabel(\"Classes\")\n",
        "    \n",
        "    plt.xlabel(\"Classes\")\n",
        "    \n",
        "    plt.imshow(cm)\n",
        "    plt.xticks([i for i in range(28)], labels, rotation=90)     \n",
        "    plt.yticks([i for i in range(28)], labels)  \n",
        "\n",
        "    # Not actually used for the final assignment, but good to have nonetheless"
      ],
      "execution_count": null,
      "outputs": []
    },
    {
      "cell_type": "code",
      "metadata": {
        "id": "qkPYF9L4y_xN"
      },
      "source": [
        "# The most time-consuming part, calculating the accuracies across all those gene sets.\n",
        "start_time = time.time()\n",
        "\n",
        "# Call to multiNBTop(), will return the accuracies and the number of genes\n",
        "accuracies, top50, top900 = multiNBTop(X_train, y_train, classLabels.values(), \n",
        "                                       chi2, topGenesDict)\n",
        "\n",
        "print(\"Elapsed time: \", time.time() - start_time)"
      ],
      "execution_count": null,
      "outputs": []
    },
    {
      "cell_type": "code",
      "metadata": {
        "id": "Vt31iXt-Kaw9"
      },
      "source": [
        "# The highest accuracy is 0.6405622489959839\n",
        "# Find all of the numbers of genes that yield this accuracy\n",
        "\n",
        "optimalGenes = []\n",
        "for geneSet in accuracies:\n",
        "    if accuracies[geneSet] == 0.6405622489959839:\n",
        "        optimalGenes.append(geneSet)\n",
        "numGenes = min(optimalGenes)\n",
        "\n",
        "expectedBestGenes = ['BRAF', 'IDH1', 'KRAS', 'NPM1', 'NRAS', 'PTEN', 'TP53', 'C3ORF84', 'C8ORF82', 'C18ORF63', 'DUX4', 'PCAT2', 'SELO', 'TTLL8', 'ZNF736', 'CDKN2A', 'ERG', 'ZFPM1', 'OR1D4', 'FBXW7', 'MANSC4', 'LYPD8', 'PIK3CA', 'STMND1', 'APC', 'CDRT7', 'GATA3', 'SLC22A31', 'TRBC2-TRBV2-TRBV9-TRBV19-TRBV27-TRBV28', 'GNAQ', 'TMEM78', 'RBM4', 'ZDHHC11B', 'NKX2-1', 'ANKRD33B', 'MRLN', 'RGPD3', 'SMIM1', 'C11ORF44', 'ARHGEF40', 'SEC62', 'TWIST2', 'KCNIP1', 'GNA11', 'CCDC6', 'ZFHX3', 'C16ORF47', 'IMMP2L', 'TRIM49B', 'UNKL']\n"
      ],
      "execution_count": null,
      "outputs": []
    },
    {
      "cell_type": "code",
      "metadata": {
        "id": "7VhITTdWMZAx"
      },
      "source": [
        "def generalMNB(X, y, labels, features, topGenesDict, xVal, yVal):\n",
        "    '''\n",
        "    General MNB classifier, also used in validation testing if xVal and yVal are\n",
        "    specified.\n",
        "    '''\n",
        "    n = 100\n",
        "    avgAccuracy = []\n",
        "    avgPrecision = []\n",
        "    avgRecall = []\n",
        "\n",
        "    for i in range(n):\n",
        "        X_train, X_test, y_train, y_test = train_test_split(X, y, train_size=0.8, \n",
        "                                                                stratify=y)\n",
        "\n",
        "        clf = MultinomialNB()\n",
        "\n",
        "        \n",
        "        clf.fit(X_train[features], y_train)\n",
        "\n",
        "        # Used for training\n",
        "        y_pred = []\n",
        "\n",
        "        if xVal is not None and yVal is not None:\n",
        "            y_pred = clf.predict(xVal[features])\n",
        "        else:\n",
        "            y_pred = clf.predict(X_test[features])\n",
        "\n",
        "        if yVal is not None:\n",
        "            y_test = yVal\n",
        "        score = metrics.accuracy_score(y_test, y_pred)\n",
        "        avgAccuracy.append(score)\n",
        "        avgPrecision.append(precision_score(y_test, y_pred, #labels=labels,\n",
        "                                            average=None))\n",
        "        avgRecall.append(recall_score(y_test, y_pred, #labels=labels,\n",
        "                                         average = None))\n",
        "            \n",
        "    finalAccuracy = sum(avgAccuracy) / n\n",
        "    finalPrecisions = []\n",
        "    finalRecalls = []\n",
        "    for i in range(28):  # for each cancer type\n",
        "        totalP = 0 \n",
        "        totalR = 0\n",
        "        for j in range(n):  # loop through the arrays\n",
        "            totalP += avgPrecision[j][i]\n",
        "            totalR += avgRecall[j][i]\n",
        "        \n",
        "        finalPrecisions.append(totalP / n)\n",
        "        finalRecalls.append(totalR / n)\n",
        "    \n",
        "    width = 0.4\n",
        "    fig, ax = plt.subplots()\n",
        "    fig.set_size_inches(5,10.5)\n",
        "\n",
        "    labels = ['Bladder urothelial carcinoma', 'Breast invasive carcinoma', \n",
        "              'Colorectal adenocarcinoma', 'Glioblastoma', \n",
        "              'Head and neck \\n squamous cell carcinoma', \n",
        "              'Kidney renal clear \\n cell carcinoma', \n",
        "              'Acute myeloid leukaemia', 'Lung adenocarcinoma', \n",
        "              'Lung squamous cell carcinoma', \n",
        "              'Ovarian serous cystadenocarcinoma', \n",
        "              'Uterine corpus endometrial carcinoma', \n",
        "              'Adenoid cystic carcinoma', \n",
        "              'Brain lower grade glioma', \n",
        "              'Cervical squamous cell carcinoma \\n and endocervical adenocarcinoma', \n",
        "              'Kidney renal papillary cell carcinoma', \n",
        "              'Liver hepatocellular carcinoma', \n",
        "              'Pancreatic adenocarcinoma', \n",
        "              'Prostate adenocarcinoma', 'Skin cutaneous melanoma', \n",
        "              'Stomach adenocarcinoma', 'Papillary thyroid carcinoma', \n",
        "              'Adrenocortical carcinoma', 'Kidney chromophobe', \n",
        "              'Pheochromocytoma and paraganglioma', 'Sarcoma', \n",
        "              'Testicular germ cell cancer', 'Uterine carcinosarcoma', \n",
        "              'Uveal melanoma']\n",
        "\n",
        "    labels.reverse()\n",
        "    finalPrecisions.reverse()\n",
        "    finalRecalls.reverse()\n",
        "\n",
        "    ax.barh(np.arange(28), finalPrecisions, width, label='Precision')\n",
        "    ax.barh(np.arange(28)+width, finalRecalls, width, label='Recalls')\n",
        "\n",
        "\n",
        "    plt.legend(loc=\"upper right\")\n",
        "\n",
        "    ax.set_yticks(np.arange(28)+0.5*width)\n",
        "    ax.set_ylim([-1,29])\n",
        "    ax.set_xlim([0, 1])\n",
        "    ax.set_yticklabels(labels)\n",
        "    plt.show()\n",
        "\n",
        "    print(\"Final Accuracy: \", finalAccuracy)\n",
        "     "
      ],
      "execution_count": null,
      "outputs": []
    },
    {
      "cell_type": "code",
      "metadata": {
        "colab": {
          "base_uri": "https://localhost:8080/",
          "height": 394
        },
        "id": "HfaZq4AqMLM5",
        "outputId": "dc8c91df-a0bf-43aa-c454-d9517aa00c64"
      },
      "source": [
        "# Okay, now test with the minimum nmber of genes needed for highest accuracy\n",
        "# Let's test if it was just a fluke\n",
        "# In case the RAM runs out, numGenes = 3468\n",
        "numGenes = 3468\n",
        "\n",
        "optimalGenes = list(geneKeys.keys())[:numGenes]\n",
        "optimalFeatures = []\n",
        "\n",
        "for gene in optimalGenes:\n",
        "    features = geneKeys[gene]\n",
        "    optimalFeatures += features\n",
        "\n",
        "labels = []\n",
        "for i in range(1, 29):\n",
        "    labels.append(classLabels[i])\n",
        "\n",
        "#generalMNB(X_train, y_train, classLabels.values(), features=optimalFeatures, \n",
        "#           topGenesDict=topGenesDict, xVal = X_val, yVal = y_val)\n",
        "\n",
        "myGenes = set(list(topGenesDict.keys())[:900])\n",
        "expectedGenes = set(['BRAF', 'IDH1', 'KRAS', 'NPM1', 'NRAS', 'PTEN', 'TP53', 'C3ORF84', 'C8ORF82', 'C18ORF63', 'DUX4', 'PCAT2', 'SELO', 'TTLL8', 'ZNF736', 'CDKN2A', 'ERG', 'ZFPM1', 'OR1D4', 'FBXW7', 'MANSC4', 'LYPD8', 'PIK3CA', 'STMND1', 'APC', 'CDRT7', 'GATA3', 'SLC22A31', 'TRBC2-TRBV2-TRBV9-TRBV19-TRBV27-TRBV28', 'GNAQ', 'TMEM78', 'RBM4', 'ZDHHC11B', 'NKX2-1', 'ANKRD33B', 'MRLN', 'RGPD3', 'SMIM1', 'C11ORF44', 'ARHGEF40', 'SEC62', 'TWIST2', 'KCNIP1', 'GNA11', 'CCDC6', 'ZFHX3', 'C16ORF47', 'IMMP2L', 'TRIM49B', 'UNKL'])\n",
        "#overlap = myGenes.intersection(expectedGenes)\n",
        "\n",
        "numSM = 0\n",
        "numCNAp = 0\n",
        "numCNAn = 0\n",
        "for gene in myGenes:\n",
        "    if len(geneKeys[gene]) == 1:\n",
        "        numSM += 1\n",
        "    else:\n",
        "        for mut in geneKeys[gene]:\n",
        "            if mut == gene:\n",
        "                numSM += 1\n",
        "            elif '.p' in mut:\n",
        "                numCNAp += 1\n",
        "            elif '.n' in mut:\n",
        "                numCNAn += 1\n",
        "print(numSM, numCNAp, numCNAn)\n",
        "\n",
        "fig = plt.figure\n",
        "\n",
        "labels = ['Somatic \\n mutations', 'CNA \\n (Amplification)', 'CNA \\n (Deletion)']\n",
        "values = [numSM, numCNAp, numCNAn]\n",
        "\n",
        "fig = plt.figure()\n",
        "ax = fig.add_axes([0,0,1,1])\n",
        "ax.bar(labels, values, color=('#D7A9E3FF', '#8BBEE8FF', '#A8D5BAFF'))\n",
        " \n",
        "# creating the bar plot\n",
        "#plt.bar([1,4,7],[numSM, numCNAp, numCNAn], width = 2,\n",
        "#        color=('#D7A9E3FF', '#8BBEE8FF', '#A8D5BAFF'))\n",
        " \n",
        "plt.xlabel(\"Mutation types\")\n",
        "#plt.xticks(ticks = [1, 8, 15], labels = ['Somatic \\n mutations', 'CNA \\n (Amplification)', 'CNA \\n (Deletion)'])\n",
        "plt.ylabel(\"Occurrences in top 900 genes\")\n",
        "plt.title(\"Frequencies of Mutation Types Among Top 900 Genes\")\n",
        "plt.show()\n",
        "\n"
      ],
      "execution_count": null,
      "outputs": [
        {
          "output_type": "stream",
          "text": [
            "452 769 774\n"
          ],
          "name": "stdout"
        },
        {
          "output_type": "display_data",
          "data": {
            "image/png": "[encoded data removed]",
            "text/plain": [
              "<Figure size 432x288 with 1 Axes>"
            ]
          },
          "metadata": {
            "tags": [],
            "needs_background": "light"
          }
        }
      ]
    }
  ]
}